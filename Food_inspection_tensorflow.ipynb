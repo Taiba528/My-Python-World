{
  "nbformat": 4,
  "nbformat_minor": 0,
  "metadata": {
    "colab": {
      "name": "Food_inspection_tensorflow.ipynb",
      "provenance": [],
      "collapsed_sections": [],
      "include_colab_link": true
    },
    "kernelspec": {
      "name": "python3",
      "display_name": "Python 3"
    }
  },
  "cells": [
    {
      "cell_type": "markdown",
      "metadata": {
        "id": "view-in-github",
        "colab_type": "text"
      },
      "source": [
        "<a href=\"https://colab.research.google.com/github/Taiba528/My-Python-World/blob/master/Food_inspection_tensorflow.ipynb\" target=\"_parent\"><img src=\"https://colab.research.google.com/assets/colab-badge.svg\" alt=\"Open In Colab\"/></a>"
      ]
    },
    {
      "cell_type": "markdown",
      "metadata": {
        "colab_type": "text",
        "id": "4s1EmJ2hEgjE"
      },
      "source": [
        "##Using  KERAS **TensorFlow** We are building a simple neural network with the goal of recognizing hand written digits.We will train the model and evaluate the results. We are working on the mnist dataset.\n"
      ]
    },
    {
      "cell_type": "code",
      "metadata": {
        "id": "8w0zSDwNCZz8",
        "colab_type": "code",
        "outputId": "e1c4c575-434c-4b8d-c732-1de2449d4d09",
        "colab": {
          "base_uri": "https://localhost:8080/",
          "height": 35
        }
      },
      "source": [
        "# Check Python Version\n",
        "import sys\n",
        "sys.version\n",
        "sys.version_info\n",
        "import platform\n",
        "print(platform.python_version())\n",
        " "
      ],
      "execution_count": 1,
      "outputs": [
        {
          "output_type": "stream",
          "text": [
            "3.6.9\n"
          ],
          "name": "stdout"
        }
      ]
    },
    {
      "cell_type": "code",
      "metadata": {
        "id": "Dnd1f6EKChnl",
        "colab_type": "code",
        "outputId": "3fda0e7e-b227-4f9a-983f-33898b9ef4b2",
        "colab": {
          "base_uri": "https://localhost:8080/",
          "height": 118
        }
      },
      "source": [
        "# Check Keras and Tensorflow environment\n",
        "import os\n",
        "os.environ[\"KERAS_BACKEND\"] = \"tensorflow\"\n",
        "# tensorflow\n",
        "import tensorflow\n",
        "print('tensorflow: %s' % tensorflow.__version__)\n",
        "# keras\n",
        "import keras\n",
        "print('keras: %s' % keras.__version__)"
      ],
      "execution_count": 2,
      "outputs": [
        {
          "output_type": "display_data",
          "data": {
            "text/html": [
              "<p style=\"color: red;\">\n",
              "The default version of TensorFlow in Colab will soon switch to TensorFlow 2.x.<br>\n",
              "We recommend you <a href=\"https://www.tensorflow.org/guide/migrate\" target=\"_blank\">upgrade</a> now \n",
              "or ensure your notebook will continue to use TensorFlow 1.x via the <code>%tensorflow_version 1.x</code> magic:\n",
              "<a href=\"https://colab.research.google.com/notebooks/tensorflow_version.ipynb\" target=\"_blank\">more info</a>.</p>\n"
            ],
            "text/plain": [
              "<IPython.core.display.HTML object>"
            ]
          },
          "metadata": {
            "tags": []
          }
        },
        {
          "output_type": "stream",
          "text": [
            "tensorflow: 1.15.0\n",
            "keras: 2.2.5\n"
          ],
          "name": "stdout"
        },
        {
          "output_type": "stream",
          "text": [
            "Using TensorFlow backend.\n"
          ],
          "name": "stderr"
        }
      ]
    },
    {
      "cell_type": "markdown",
      "metadata": {
        "id": "f9krRfS6F3BH",
        "colab_type": "text"
      },
      "source": [
        "## Importing necessary libraries"
      ]
    },
    {
      "cell_type": "code",
      "metadata": {
        "id": "XHDZ4IBSCqZW",
        "colab_type": "code",
        "colab": {}
      },
      "source": [
        "# import libraries\n",
        "from keras.models import Sequential\n",
        "from keras.layers import Dense, Activation, Dropout, advanced_activations\n",
        "from keras.callbacks import ModelCheckpoint, TensorBoard\n",
        "import numpy as np\n",
        "import pandas as pd\n",
        "from sklearn.model_selection import train_test_split\n",
        "import matplotlib.pyplot as plt\n",
        "from sklearn.metrics import confusion_matrix, average_precision_score, recall_score\n",
        "import seaborn as sns\n",
        "from sklearn.preprocessing import StandardScaler\n",
        "%matplotlib inline"
      ],
      "execution_count": 0,
      "outputs": []
    },
    {
      "cell_type": "markdown",
      "metadata": {
        "id": "uFv3Y0iwGEbd",
        "colab_type": "text"
      },
      "source": [
        "## magic command to print multiple statements in one shot"
      ]
    },
    {
      "cell_type": "code",
      "metadata": {
        "id": "6cWS12vnCyxJ",
        "colab_type": "code",
        "colab": {}
      },
      "source": [
        "from IPython.core.interactiveshell import InteractiveShell\n",
        "InteractiveShell.ast_node_interactivity = \"all\""
      ],
      "execution_count": 0,
      "outputs": []
    },
    {
      "cell_type": "markdown",
      "metadata": {
        "id": "Dkm-7YVHgDLp",
        "colab_type": "text"
      },
      "source": [
        "## Importing and uploading mnist file in google colab."
      ]
    },
    {
      "cell_type": "markdown",
      "metadata": {
        "id": "3k9b23dceieX",
        "colab_type": "text"
      },
      "source": [
        "The mnist data is a subset of a larger set available from NIST of handwritten digits 0-9, with 10,000 examples.In this, digits have been size-normalized and centered in a fixed-size images.It is a good database for pattern recognition methods."
      ]
    },
    {
      "cell_type": "code",
      "metadata": {
        "id": "BrS8WytMC4YS",
        "colab_type": "code",
        "outputId": "9fdc154a-0504-4ca7-f848-15a64a034f8a",
        "colab": {
          "resources": {
            "http://localhost:8080/nbextensions/google.colab/files.js": {
              "data": "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",
              "ok": true,
              "headers": [
                [
                  "content-type",
                  "application/javascript"
                ]
              ],
              "status": 200,
              "status_text": ""
            }
          },
          "base_uri": "https://localhost:8080/",
          "height": 76
        }
      },
      "source": [
        "from google.colab import files\n",
        "uploaded=files.upload()\n"
      ],
      "execution_count": 7,
      "outputs": [
        {
          "output_type": "display_data",
          "data": {
            "text/html": [
              "\n",
              "     <input type=\"file\" id=\"files-704acd05-a43d-41dc-91cd-0ed540a24f1f\" name=\"files[]\" multiple disabled />\n",
              "     <output id=\"result-704acd05-a43d-41dc-91cd-0ed540a24f1f\">\n",
              "      Upload widget is only available when the cell has been executed in the\n",
              "      current browser session. Please rerun this cell to enable.\n",
              "      </output>\n",
              "      <script src=\"/nbextensions/google.colab/files.js\"></script> "
            ],
            "text/plain": [
              "<IPython.core.display.HTML object>"
            ]
          },
          "metadata": {
            "tags": []
          }
        },
        {
          "output_type": "stream",
          "text": [
            "Saving Data_Train.csv to Data_Train.csv\n"
          ],
          "name": "stdout"
        }
      ]
    },
    {
      "cell_type": "markdown",
      "metadata": {
        "id": "6Rf_PJJlIP0v",
        "colab_type": "text"
      },
      "source": [
        "## Reading file for the analysis"
      ]
    },
    {
      "cell_type": "code",
      "metadata": {
        "id": "gC5xWA0RC9yH",
        "colab_type": "code",
        "colab": {}
      },
      "source": [
        "df = pd.read_csv(\"Data_Train.csv\")"
      ],
      "execution_count": 0,
      "outputs": []
    },
    {
      "cell_type": "markdown",
      "metadata": {
        "id": "w-463DJ4gQ_4",
        "colab_type": "text"
      },
      "source": [
        "# Exploratory Data Anaysis(EDA)"
      ]
    },
    {
      "cell_type": "code",
      "metadata": {
        "id": "AHJf3L-Hb59w",
        "colab_type": "code",
        "outputId": "6d1e0895-5b52-4886-d02a-7495fbc74701",
        "colab": {
          "base_uri": "https://localhost:8080/",
          "height": 400
        }
      },
      "source": [
        "#Explore Data\n",
        "df.shape\n",
        "type(df)\n",
        "df.size\n",
        "df.shape\n",
        "df.head()\n",
        "df.tail()"
      ],
      "execution_count": 10,
      "outputs": [
        {
          "output_type": "execute_result",
          "data": {
            "text/plain": [
              "(147443, 6)"
            ]
          },
          "metadata": {
            "tags": []
          },
          "execution_count": 10
        },
        {
          "output_type": "execute_result",
          "data": {
            "text/plain": [
              "pandas.core.frame.DataFrame"
            ]
          },
          "metadata": {
            "tags": []
          },
          "execution_count": 10
        },
        {
          "output_type": "execute_result",
          "data": {
            "text/plain": [
              "884658"
            ]
          },
          "metadata": {
            "tags": []
          },
          "execution_count": 10
        },
        {
          "output_type": "execute_result",
          "data": {
            "text/plain": [
              "(147443, 6)"
            ]
          },
          "metadata": {
            "tags": []
          },
          "execution_count": 10
        },
        {
          "output_type": "execute_result",
          "data": {
            "text/html": [
              "<div>\n",
              "<style scoped>\n",
              "    .dataframe tbody tr th:only-of-type {\n",
              "        vertical-align: middle;\n",
              "    }\n",
              "\n",
              "    .dataframe tbody tr th {\n",
              "        vertical-align: top;\n",
              "    }\n",
              "\n",
              "    .dataframe thead th {\n",
              "        text-align: right;\n",
              "    }\n",
              "</style>\n",
              "<table border=\"1\" class=\"dataframe\">\n",
              "  <thead>\n",
              "    <tr style=\"text-align: right;\">\n",
              "      <th></th>\n",
              "      <th>ID</th>\n",
              "      <th>Type</th>\n",
              "      <th>Reason</th>\n",
              "      <th>SectionViolations</th>\n",
              "      <th>RiskLevel</th>\n",
              "      <th>Inspection_Results</th>\n",
              "    </tr>\n",
              "  </thead>\n",
              "  <tbody>\n",
              "    <tr>\n",
              "      <th>0</th>\n",
              "      <td>3.110350e+13</td>\n",
              "      <td>RESTAURANT</td>\n",
              "      <td>CANVASS</td>\n",
              "      <td>33.0</td>\n",
              "      <td>High</td>\n",
              "      <td>4</td>\n",
              "    </tr>\n",
              "    <tr>\n",
              "      <th>1</th>\n",
              "      <td>1.008900e+13</td>\n",
              "      <td>GROCERY STORE</td>\n",
              "      <td>COMPLAINT</td>\n",
              "      <td>33.0</td>\n",
              "      <td>High</td>\n",
              "      <td>4</td>\n",
              "    </tr>\n",
              "    <tr>\n",
              "      <th>2</th>\n",
              "      <td>4.014900e+13</td>\n",
              "      <td>RESTAURANT</td>\n",
              "      <td>CANVASS</td>\n",
              "      <td>NaN</td>\n",
              "      <td>High</td>\n",
              "      <td>6</td>\n",
              "    </tr>\n",
              "    <tr>\n",
              "      <th>3</th>\n",
              "      <td>3.715770e+13</td>\n",
              "      <td>RESTAURANT</td>\n",
              "      <td>CANVASS RE-INSPECTION</td>\n",
              "      <td>31.0</td>\n",
              "      <td>Medium</td>\n",
              "      <td>4</td>\n",
              "    </tr>\n",
              "    <tr>\n",
              "      <th>4</th>\n",
              "      <td>4.747800e+13</td>\n",
              "      <td>RESTAURANT</td>\n",
              "      <td>COMPLAINT</td>\n",
              "      <td>30.0</td>\n",
              "      <td>High</td>\n",
              "      <td>4</td>\n",
              "    </tr>\n",
              "  </tbody>\n",
              "</table>\n",
              "</div>"
            ],
            "text/plain": [
              "             ID           Type  ... RiskLevel  Inspection_Results\n",
              "0  3.110350e+13     RESTAURANT  ...      High                   4\n",
              "1  1.008900e+13  GROCERY STORE  ...      High                   4\n",
              "2  4.014900e+13     RESTAURANT  ...      High                   6\n",
              "3  3.715770e+13     RESTAURANT  ...    Medium                   4\n",
              "4  4.747800e+13     RESTAURANT  ...      High                   4\n",
              "\n",
              "[5 rows x 6 columns]"
            ]
          },
          "metadata": {
            "tags": []
          },
          "execution_count": 10
        },
        {
          "output_type": "execute_result",
          "data": {
            "text/html": [
              "<div>\n",
              "<style scoped>\n",
              "    .dataframe tbody tr th:only-of-type {\n",
              "        vertical-align: middle;\n",
              "    }\n",
              "\n",
              "    .dataframe tbody tr th {\n",
              "        vertical-align: top;\n",
              "    }\n",
              "\n",
              "    .dataframe thead th {\n",
              "        text-align: right;\n",
              "    }\n",
              "</style>\n",
              "<table border=\"1\" class=\"dataframe\">\n",
              "  <thead>\n",
              "    <tr style=\"text-align: right;\">\n",
              "      <th></th>\n",
              "      <th>ID</th>\n",
              "      <th>Type</th>\n",
              "      <th>Reason</th>\n",
              "      <th>SectionViolations</th>\n",
              "      <th>RiskLevel</th>\n",
              "      <th>Inspection_Results</th>\n",
              "    </tr>\n",
              "  </thead>\n",
              "  <tbody>\n",
              "    <tr>\n",
              "      <th>147438</th>\n",
              "      <td>3.261690e+13</td>\n",
              "      <td>GROCERY STORE</td>\n",
              "      <td>COMPLAINT</td>\n",
              "      <td>3.0</td>\n",
              "      <td>Medium</td>\n",
              "      <td>1</td>\n",
              "    </tr>\n",
              "    <tr>\n",
              "      <th>147439</th>\n",
              "      <td>3.833520e+13</td>\n",
              "      <td>RESTAURANT</td>\n",
              "      <td>SHORT FORM COMPLAINT</td>\n",
              "      <td>NaN</td>\n",
              "      <td>High</td>\n",
              "      <td>4</td>\n",
              "    </tr>\n",
              "    <tr>\n",
              "      <th>147440</th>\n",
              "      <td>4.269340e+13</td>\n",
              "      <td>RESTAURANT</td>\n",
              "      <td>CANVASS</td>\n",
              "      <td>NaN</td>\n",
              "      <td>Medium</td>\n",
              "      <td>6</td>\n",
              "    </tr>\n",
              "    <tr>\n",
              "      <th>147441</th>\n",
              "      <td>4.908700e+13</td>\n",
              "      <td>RESTAURANT</td>\n",
              "      <td>CANVASS RE-INSPECTION</td>\n",
              "      <td>3.0</td>\n",
              "      <td>High</td>\n",
              "      <td>5</td>\n",
              "    </tr>\n",
              "    <tr>\n",
              "      <th>147442</th>\n",
              "      <td>1.671460e+13</td>\n",
              "      <td>CHILDREN'S SERVICES FACILITY</td>\n",
              "      <td>LICENSE</td>\n",
              "      <td>32.0</td>\n",
              "      <td>High</td>\n",
              "      <td>4</td>\n",
              "    </tr>\n",
              "  </tbody>\n",
              "</table>\n",
              "</div>"
            ],
            "text/plain": [
              "                  ID  ... Inspection_Results\n",
              "147438  3.261690e+13  ...                  1\n",
              "147439  3.833520e+13  ...                  4\n",
              "147440  4.269340e+13  ...                  6\n",
              "147441  4.908700e+13  ...                  5\n",
              "147442  1.671460e+13  ...                  4\n",
              "\n",
              "[5 rows x 6 columns]"
            ]
          },
          "metadata": {
            "tags": []
          },
          "execution_count": 10
        }
      ]
    },
    {
      "cell_type": "code",
      "metadata": {
        "id": "eN6Bv4MBcMZ0",
        "colab_type": "code",
        "outputId": "b868ba7c-1bd9-43c0-eb20-a13ed7ea09b9",
        "colab": {
          "base_uri": "https://localhost:8080/",
          "height": 326
        }
      },
      "source": [
        "print ('Overall data summary')\n",
        "df.describe()\n",
        "df.shape"
      ],
      "execution_count": 11,
      "outputs": [
        {
          "output_type": "stream",
          "text": [
            "Overall data summary\n"
          ],
          "name": "stdout"
        },
        {
          "output_type": "execute_result",
          "data": {
            "text/html": [
              "<div>\n",
              "<style scoped>\n",
              "    .dataframe tbody tr th:only-of-type {\n",
              "        vertical-align: middle;\n",
              "    }\n",
              "\n",
              "    .dataframe tbody tr th {\n",
              "        vertical-align: top;\n",
              "    }\n",
              "\n",
              "    .dataframe thead th {\n",
              "        text-align: right;\n",
              "    }\n",
              "</style>\n",
              "<table border=\"1\" class=\"dataframe\">\n",
              "  <thead>\n",
              "    <tr style=\"text-align: right;\">\n",
              "      <th></th>\n",
              "      <th>ID</th>\n",
              "      <th>SectionViolations</th>\n",
              "      <th>Inspection_Results</th>\n",
              "    </tr>\n",
              "  </thead>\n",
              "  <tbody>\n",
              "    <tr>\n",
              "      <th>count</th>\n",
              "      <td>1.474430e+05</td>\n",
              "      <td>108375.000000</td>\n",
              "      <td>147443.000000</td>\n",
              "    </tr>\n",
              "    <tr>\n",
              "      <th>mean</th>\n",
              "      <td>2.997142e+13</td>\n",
              "      <td>24.129153</td>\n",
              "      <td>3.680405</td>\n",
              "    </tr>\n",
              "    <tr>\n",
              "      <th>std</th>\n",
              "      <td>1.154808e+13</td>\n",
              "      <td>12.657456</td>\n",
              "      <td>1.481441</td>\n",
              "    </tr>\n",
              "    <tr>\n",
              "      <th>min</th>\n",
              "      <td>1.000010e+13</td>\n",
              "      <td>1.000000</td>\n",
              "      <td>0.000000</td>\n",
              "    </tr>\n",
              "    <tr>\n",
              "      <th>25%</th>\n",
              "      <td>1.994860e+13</td>\n",
              "      <td>14.000000</td>\n",
              "      <td>4.000000</td>\n",
              "    </tr>\n",
              "    <tr>\n",
              "      <th>50%</th>\n",
              "      <td>2.999150e+13</td>\n",
              "      <td>31.000000</td>\n",
              "      <td>4.000000</td>\n",
              "    </tr>\n",
              "    <tr>\n",
              "      <th>75%</th>\n",
              "      <td>3.995725e+13</td>\n",
              "      <td>33.000000</td>\n",
              "      <td>4.000000</td>\n",
              "    </tr>\n",
              "    <tr>\n",
              "      <th>max</th>\n",
              "      <td>4.999990e+13</td>\n",
              "      <td>70.000000</td>\n",
              "      <td>6.000000</td>\n",
              "    </tr>\n",
              "  </tbody>\n",
              "</table>\n",
              "</div>"
            ],
            "text/plain": [
              "                 ID  SectionViolations  Inspection_Results\n",
              "count  1.474430e+05      108375.000000       147443.000000\n",
              "mean   2.997142e+13          24.129153            3.680405\n",
              "std    1.154808e+13          12.657456            1.481441\n",
              "min    1.000010e+13           1.000000            0.000000\n",
              "25%    1.994860e+13          14.000000            4.000000\n",
              "50%    2.999150e+13          31.000000            4.000000\n",
              "75%    3.995725e+13          33.000000            4.000000\n",
              "max    4.999990e+13          70.000000            6.000000"
            ]
          },
          "metadata": {
            "tags": []
          },
          "execution_count": 11
        },
        {
          "output_type": "execute_result",
          "data": {
            "text/plain": [
              "(147443, 6)"
            ]
          },
          "metadata": {
            "tags": []
          },
          "execution_count": 11
        }
      ]
    },
    {
      "cell_type": "markdown",
      "metadata": {
        "id": "mV42aEn3hPV-",
        "colab_type": "text"
      },
      "source": [
        "\n",
        "\n",
        "\n",
        "```\n",
        "\n",
        "### There are 147443 rows and 6 columns"
      ]
    },
    {
      "cell_type": "code",
      "metadata": {
        "id": "TYYlhNXb5b5A",
        "colab_type": "code",
        "outputId": "0dca4892-367b-499d-d49a-b06a55e2a0d0",
        "colab": {
          "base_uri": "https://localhost:8080/",
          "height": 251
        }
      },
      "source": [
        "#check for missing values\n",
        "pd.isnull(df).any()\n",
        "pd.isnull(df).sum()"
      ],
      "execution_count": 13,
      "outputs": [
        {
          "output_type": "execute_result",
          "data": {
            "text/plain": [
              "ID                    False\n",
              "Type                   True\n",
              "Reason                False\n",
              "SectionViolations      True\n",
              "RiskLevel             False\n",
              "Inspection_Results    False\n",
              "dtype: bool"
            ]
          },
          "metadata": {
            "tags": []
          },
          "execution_count": 13
        },
        {
          "output_type": "execute_result",
          "data": {
            "text/plain": [
              "ID                        0\n",
              "Type                   3485\n",
              "Reason                    0\n",
              "SectionViolations     39068\n",
              "RiskLevel                 0\n",
              "Inspection_Results        0\n",
              "dtype: int64"
            ]
          },
          "metadata": {
            "tags": []
          },
          "execution_count": 13
        }
      ]
    },
    {
      "cell_type": "code",
      "metadata": {
        "id": "Vcgwm_LN6tnB",
        "colab_type": "code",
        "colab": {}
      },
      "source": [
        "df = df.dropna(how='any',axis=0) "
      ],
      "execution_count": 0,
      "outputs": []
    },
    {
      "cell_type": "code",
      "metadata": {
        "id": "qX3kpRo47wW3",
        "colab_type": "code",
        "outputId": "93f89524-2cfe-4539-b29d-82bc9f371fd9",
        "colab": {
          "base_uri": "https://localhost:8080/",
          "height": 251
        }
      },
      "source": [
        "#check for missing values\n",
        "pd.isnull(df).any()\n",
        "pd.isnull(df).sum()"
      ],
      "execution_count": 15,
      "outputs": [
        {
          "output_type": "execute_result",
          "data": {
            "text/plain": [
              "ID                    False\n",
              "Type                  False\n",
              "Reason                False\n",
              "SectionViolations     False\n",
              "RiskLevel             False\n",
              "Inspection_Results    False\n",
              "dtype: bool"
            ]
          },
          "metadata": {
            "tags": []
          },
          "execution_count": 15
        },
        {
          "output_type": "execute_result",
          "data": {
            "text/plain": [
              "ID                    0\n",
              "Type                  0\n",
              "Reason                0\n",
              "SectionViolations     0\n",
              "RiskLevel             0\n",
              "Inspection_Results    0\n",
              "dtype: int64"
            ]
          },
          "metadata": {
            "tags": []
          },
          "execution_count": 15
        }
      ]
    },
    {
      "cell_type": "code",
      "metadata": {
        "id": "11X_ntobel4F",
        "colab_type": "code",
        "colab": {}
      },
      "source": [
        "#dummy coading using the loop structure\n",
        "for col in df.columns:\n",
        "    if df[col].dtype=='object':\n",
        "        df[col]=pd.Categorical( df[col]).codes\n",
        "        "
      ],
      "execution_count": 0,
      "outputs": []
    },
    {
      "cell_type": "code",
      "metadata": {
        "id": "z7YKDFFH35pW",
        "colab_type": "code",
        "outputId": "1dbf4aa2-aa10-4668-c926-86708ae1e43a",
        "colab": {
          "base_uri": "https://localhost:8080/",
          "height": 200
        }
      },
      "source": [
        "df.head()"
      ],
      "execution_count": 17,
      "outputs": [
        {
          "output_type": "execute_result",
          "data": {
            "text/html": [
              "<div>\n",
              "<style scoped>\n",
              "    .dataframe tbody tr th:only-of-type {\n",
              "        vertical-align: middle;\n",
              "    }\n",
              "\n",
              "    .dataframe tbody tr th {\n",
              "        vertical-align: top;\n",
              "    }\n",
              "\n",
              "    .dataframe thead th {\n",
              "        text-align: right;\n",
              "    }\n",
              "</style>\n",
              "<table border=\"1\" class=\"dataframe\">\n",
              "  <thead>\n",
              "    <tr style=\"text-align: right;\">\n",
              "      <th></th>\n",
              "      <th>ID</th>\n",
              "      <th>Type</th>\n",
              "      <th>Reason</th>\n",
              "      <th>SectionViolations</th>\n",
              "      <th>RiskLevel</th>\n",
              "      <th>Inspection_Results</th>\n",
              "    </tr>\n",
              "  </thead>\n",
              "  <tbody>\n",
              "    <tr>\n",
              "      <th>0</th>\n",
              "      <td>3.110350e+13</td>\n",
              "      <td>278</td>\n",
              "      <td>0</td>\n",
              "      <td>33.0</td>\n",
              "      <td>0</td>\n",
              "      <td>4</td>\n",
              "    </tr>\n",
              "    <tr>\n",
              "      <th>1</th>\n",
              "      <td>1.008900e+13</td>\n",
              "      <td>157</td>\n",
              "      <td>2</td>\n",
              "      <td>33.0</td>\n",
              "      <td>0</td>\n",
              "      <td>4</td>\n",
              "    </tr>\n",
              "    <tr>\n",
              "      <th>3</th>\n",
              "      <td>3.715770e+13</td>\n",
              "      <td>278</td>\n",
              "      <td>1</td>\n",
              "      <td>31.0</td>\n",
              "      <td>2</td>\n",
              "      <td>4</td>\n",
              "    </tr>\n",
              "    <tr>\n",
              "      <th>4</th>\n",
              "      <td>4.747800e+13</td>\n",
              "      <td>278</td>\n",
              "      <td>2</td>\n",
              "      <td>30.0</td>\n",
              "      <td>0</td>\n",
              "      <td>4</td>\n",
              "    </tr>\n",
              "    <tr>\n",
              "      <th>5</th>\n",
              "      <td>2.523430e+13</td>\n",
              "      <td>278</td>\n",
              "      <td>0</td>\n",
              "      <td>18.0</td>\n",
              "      <td>0</td>\n",
              "      <td>1</td>\n",
              "    </tr>\n",
              "  </tbody>\n",
              "</table>\n",
              "</div>"
            ],
            "text/plain": [
              "             ID  Type  Reason  SectionViolations  RiskLevel  Inspection_Results\n",
              "0  3.110350e+13   278       0               33.0          0                   4\n",
              "1  1.008900e+13   157       2               33.0          0                   4\n",
              "3  3.715770e+13   278       1               31.0          2                   4\n",
              "4  4.747800e+13   278       2               30.0          0                   4\n",
              "5  2.523430e+13   278       0               18.0          0                   1"
            ]
          },
          "metadata": {
            "tags": []
          },
          "execution_count": 17
        }
      ]
    },
    {
      "cell_type": "code",
      "metadata": {
        "id": "bUtH0_w5c2vA",
        "colab_type": "code",
        "outputId": "51758696-8a3d-4fe6-858d-9bdb7ef57ed6",
        "colab": {
          "base_uri": "https://localhost:8080/",
          "height": 622
        }
      },
      "source": [
        "x = df.corr()\n",
        "x\n",
        "plt.subplots(figsize=(10,10))\n",
        "sns.heatmap(x,cmap=\"YlGnBu\")\n",
        "plt.show();\n",
        "\n"
      ],
      "execution_count": 18,
      "outputs": [
        {
          "output_type": "display_data",
          "data": {
            "image/png": "[encoded data removed]",
            "text/plain": [
              "<Figure size 720x720 with 2 Axes>"
            ]
          },
          "metadata": {
            "tags": []
          }
        }
      ]
    },
    {
      "cell_type": "code",
      "metadata": {
        "id": "jwu6byzybKyu",
        "colab_type": "code",
        "colab": {
          "base_uri": "https://localhost:8080/",
          "height": 956
        },
        "outputId": "9ec3e23f-4dcb-44a7-df49-953080003c57"
      },
      "source": [
        "df.groupby('Inspection_Results')\n"
      ],
      "execution_count": 23,
      "outputs": [
        {
          "output_type": "execute_result",
          "data": {
            "text/html": [
              "<div>\n",
              "<style scoped>\n",
              "    .dataframe tbody tr th:only-of-type {\n",
              "        vertical-align: middle;\n",
              "    }\n",
              "\n",
              "    .dataframe tbody tr th {\n",
              "        vertical-align: top;\n",
              "    }\n",
              "\n",
              "    .dataframe thead th {\n",
              "        text-align: right;\n",
              "    }\n",
              "</style>\n",
              "<table border=\"1\" class=\"dataframe\">\n",
              "  <thead>\n",
              "    <tr style=\"text-align: right;\">\n",
              "      <th></th>\n",
              "      <th>ID</th>\n",
              "      <th>Type</th>\n",
              "      <th>Reason</th>\n",
              "      <th>SectionViolations</th>\n",
              "      <th>RiskLevel</th>\n",
              "      <th>Inspection_Results</th>\n",
              "    </tr>\n",
              "  </thead>\n",
              "  <tbody>\n",
              "    <tr>\n",
              "      <th>0</th>\n",
              "      <td>3.110350e+13</td>\n",
              "      <td>278</td>\n",
              "      <td>0</td>\n",
              "      <td>33.0</td>\n",
              "      <td>0</td>\n",
              "      <td>4</td>\n",
              "    </tr>\n",
              "    <tr>\n",
              "      <th>1</th>\n",
              "      <td>1.008900e+13</td>\n",
              "      <td>157</td>\n",
              "      <td>2</td>\n",
              "      <td>33.0</td>\n",
              "      <td>0</td>\n",
              "      <td>4</td>\n",
              "    </tr>\n",
              "    <tr>\n",
              "      <th>3</th>\n",
              "      <td>3.715770e+13</td>\n",
              "      <td>278</td>\n",
              "      <td>1</td>\n",
              "      <td>31.0</td>\n",
              "      <td>2</td>\n",
              "      <td>4</td>\n",
              "    </tr>\n",
              "    <tr>\n",
              "      <th>4</th>\n",
              "      <td>4.747800e+13</td>\n",
              "      <td>278</td>\n",
              "      <td>2</td>\n",
              "      <td>30.0</td>\n",
              "      <td>0</td>\n",
              "      <td>4</td>\n",
              "    </tr>\n",
              "    <tr>\n",
              "      <th>5</th>\n",
              "      <td>2.523430e+13</td>\n",
              "      <td>278</td>\n",
              "      <td>0</td>\n",
              "      <td>18.0</td>\n",
              "      <td>0</td>\n",
              "      <td>1</td>\n",
              "    </tr>\n",
              "    <tr>\n",
              "      <th>6</th>\n",
              "      <td>1.764020e+13</td>\n",
              "      <td>278</td>\n",
              "      <td>1</td>\n",
              "      <td>32.0</td>\n",
              "      <td>0</td>\n",
              "      <td>4</td>\n",
              "    </tr>\n",
              "    <tr>\n",
              "      <th>13</th>\n",
              "      <td>1.096260e+13</td>\n",
              "      <td>278</td>\n",
              "      <td>0</td>\n",
              "      <td>16.0</td>\n",
              "      <td>0</td>\n",
              "      <td>1</td>\n",
              "    </tr>\n",
              "    <tr>\n",
              "      <th>14</th>\n",
              "      <td>2.633740e+13</td>\n",
              "      <td>278</td>\n",
              "      <td>2</td>\n",
              "      <td>2.0</td>\n",
              "      <td>0</td>\n",
              "      <td>5</td>\n",
              "    </tr>\n",
              "    <tr>\n",
              "      <th>17</th>\n",
              "      <td>2.538500e+13</td>\n",
              "      <td>278</td>\n",
              "      <td>0</td>\n",
              "      <td>18.0</td>\n",
              "      <td>0</td>\n",
              "      <td>1</td>\n",
              "    </tr>\n",
              "    <tr>\n",
              "      <th>18</th>\n",
              "      <td>4.726280e+13</td>\n",
              "      <td>278</td>\n",
              "      <td>0</td>\n",
              "      <td>21.0</td>\n",
              "      <td>0</td>\n",
              "      <td>5</td>\n",
              "    </tr>\n",
              "    <tr>\n",
              "      <th>26</th>\n",
              "      <td>3.547490e+13</td>\n",
              "      <td>157</td>\n",
              "      <td>2</td>\n",
              "      <td>11.0</td>\n",
              "      <td>2</td>\n",
              "      <td>1</td>\n",
              "    </tr>\n",
              "    <tr>\n",
              "      <th>34</th>\n",
              "      <td>3.329040e+13</td>\n",
              "      <td>157</td>\n",
              "      <td>0</td>\n",
              "      <td>18.0</td>\n",
              "      <td>2</td>\n",
              "      <td>1</td>\n",
              "    </tr>\n",
              "    <tr>\n",
              "      <th>41</th>\n",
              "      <td>1.847180e+13</td>\n",
              "      <td>278</td>\n",
              "      <td>6</td>\n",
              "      <td>3.0</td>\n",
              "      <td>2</td>\n",
              "      <td>5</td>\n",
              "    </tr>\n",
              "    <tr>\n",
              "      <th>62</th>\n",
              "      <td>2.857150e+13</td>\n",
              "      <td>278</td>\n",
              "      <td>0</td>\n",
              "      <td>3.0</td>\n",
              "      <td>0</td>\n",
              "      <td>5</td>\n",
              "    </tr>\n",
              "    <tr>\n",
              "      <th>70</th>\n",
              "      <td>4.958140e+13</td>\n",
              "      <td>299</td>\n",
              "      <td>0</td>\n",
              "      <td>21.0</td>\n",
              "      <td>0</td>\n",
              "      <td>5</td>\n",
              "    </tr>\n",
              "    <tr>\n",
              "      <th>424</th>\n",
              "      <td>1.449780e+13</td>\n",
              "      <td>278</td>\n",
              "      <td>3</td>\n",
              "      <td>35.0</td>\n",
              "      <td>2</td>\n",
              "      <td>2</td>\n",
              "    </tr>\n",
              "    <tr>\n",
              "      <th>646</th>\n",
              "      <td>2.550940e+13</td>\n",
              "      <td>157</td>\n",
              "      <td>0</td>\n",
              "      <td>34.0</td>\n",
              "      <td>1</td>\n",
              "      <td>6</td>\n",
              "    </tr>\n",
              "    <tr>\n",
              "      <th>716</th>\n",
              "      <td>3.848450e+13</td>\n",
              "      <td>102</td>\n",
              "      <td>0</td>\n",
              "      <td>37.0</td>\n",
              "      <td>0</td>\n",
              "      <td>6</td>\n",
              "    </tr>\n",
              "    <tr>\n",
              "      <th>890</th>\n",
              "      <td>1.509640e+13</td>\n",
              "      <td>278</td>\n",
              "      <td>7</td>\n",
              "      <td>3.0</td>\n",
              "      <td>0</td>\n",
              "      <td>2</td>\n",
              "    </tr>\n",
              "    <tr>\n",
              "      <th>1893</th>\n",
              "      <td>3.393600e+13</td>\n",
              "      <td>278</td>\n",
              "      <td>0</td>\n",
              "      <td>33.0</td>\n",
              "      <td>0</td>\n",
              "      <td>3</td>\n",
              "    </tr>\n",
              "    <tr>\n",
              "      <th>2508</th>\n",
              "      <td>3.101900e+13</td>\n",
              "      <td>278</td>\n",
              "      <td>0</td>\n",
              "      <td>32.0</td>\n",
              "      <td>0</td>\n",
              "      <td>3</td>\n",
              "    </tr>\n",
              "    <tr>\n",
              "      <th>2657</th>\n",
              "      <td>3.032650e+13</td>\n",
              "      <td>278</td>\n",
              "      <td>0</td>\n",
              "      <td>36.0</td>\n",
              "      <td>0</td>\n",
              "      <td>3</td>\n",
              "    </tr>\n",
              "    <tr>\n",
              "      <th>2914</th>\n",
              "      <td>2.442180e+13</td>\n",
              "      <td>278</td>\n",
              "      <td>0</td>\n",
              "      <td>36.0</td>\n",
              "      <td>0</td>\n",
              "      <td>3</td>\n",
              "    </tr>\n",
              "    <tr>\n",
              "      <th>3670</th>\n",
              "      <td>1.755340e+13</td>\n",
              "      <td>24</td>\n",
              "      <td>1</td>\n",
              "      <td>3.0</td>\n",
              "      <td>0</td>\n",
              "      <td>3</td>\n",
              "    </tr>\n",
              "    <tr>\n",
              "      <th>4157</th>\n",
              "      <td>2.557600e+13</td>\n",
              "      <td>278</td>\n",
              "      <td>1</td>\n",
              "      <td>18.0</td>\n",
              "      <td>2</td>\n",
              "      <td>6</td>\n",
              "    </tr>\n",
              "    <tr>\n",
              "      <th>7170</th>\n",
              "      <td>4.326230e+13</td>\n",
              "      <td>157</td>\n",
              "      <td>7</td>\n",
              "      <td>2.0</td>\n",
              "      <td>0</td>\n",
              "      <td>2</td>\n",
              "    </tr>\n",
              "    <tr>\n",
              "      <th>11240</th>\n",
              "      <td>1.681760e+13</td>\n",
              "      <td>278</td>\n",
              "      <td>10</td>\n",
              "      <td>33.0</td>\n",
              "      <td>2</td>\n",
              "      <td>2</td>\n",
              "    </tr>\n",
              "    <tr>\n",
              "      <th>13244</th>\n",
              "      <td>3.299110e+13</td>\n",
              "      <td>138</td>\n",
              "      <td>1</td>\n",
              "      <td>32.0</td>\n",
              "      <td>1</td>\n",
              "      <td>6</td>\n",
              "    </tr>\n",
              "    <tr>\n",
              "      <th>15930</th>\n",
              "      <td>4.937620e+13</td>\n",
              "      <td>278</td>\n",
              "      <td>1</td>\n",
              "      <td>34.0</td>\n",
              "      <td>0</td>\n",
              "      <td>6</td>\n",
              "    </tr>\n",
              "    <tr>\n",
              "      <th>17839</th>\n",
              "      <td>3.546440e+13</td>\n",
              "      <td>278</td>\n",
              "      <td>2</td>\n",
              "      <td>49.0</td>\n",
              "      <td>0</td>\n",
              "      <td>2</td>\n",
              "    </tr>\n",
              "  </tbody>\n",
              "</table>\n",
              "</div>"
            ],
            "text/plain": [
              "                 ID  Type  ...  RiskLevel  Inspection_Results\n",
              "0      3.110350e+13   278  ...          0                   4\n",
              "1      1.008900e+13   157  ...          0                   4\n",
              "3      3.715770e+13   278  ...          2                   4\n",
              "4      4.747800e+13   278  ...          0                   4\n",
              "5      2.523430e+13   278  ...          0                   1\n",
              "6      1.764020e+13   278  ...          0                   4\n",
              "13     1.096260e+13   278  ...          0                   1\n",
              "14     2.633740e+13   278  ...          0                   5\n",
              "17     2.538500e+13   278  ...          0                   1\n",
              "18     4.726280e+13   278  ...          0                   5\n",
              "26     3.547490e+13   157  ...          2                   1\n",
              "34     3.329040e+13   157  ...          2                   1\n",
              "41     1.847180e+13   278  ...          2                   5\n",
              "62     2.857150e+13   278  ...          0                   5\n",
              "70     4.958140e+13   299  ...          0                   5\n",
              "424    1.449780e+13   278  ...          2                   2\n",
              "646    2.550940e+13   157  ...          1                   6\n",
              "716    3.848450e+13   102  ...          0                   6\n",
              "890    1.509640e+13   278  ...          0                   2\n",
              "1893   3.393600e+13   278  ...          0                   3\n",
              "2508   3.101900e+13   278  ...          0                   3\n",
              "2657   3.032650e+13   278  ...          0                   3\n",
              "2914   2.442180e+13   278  ...          0                   3\n",
              "3670   1.755340e+13    24  ...          0                   3\n",
              "4157   2.557600e+13   278  ...          2                   6\n",
              "7170   4.326230e+13   157  ...          0                   2\n",
              "11240  1.681760e+13   278  ...          2                   2\n",
              "13244  3.299110e+13   138  ...          1                   6\n",
              "15930  4.937620e+13   278  ...          0                   6\n",
              "17839  3.546440e+13   278  ...          0                   2\n",
              "\n",
              "[30 rows x 6 columns]"
            ]
          },
          "metadata": {
            "tags": []
          },
          "execution_count": 23
        }
      ]
    },
    {
      "cell_type": "code",
      "metadata": {
        "id": "RaYpuntP3_EN",
        "colab_type": "code",
        "colab": {}
      },
      "source": [
        "x=df.drop('ID',axis=1)\n",
        "x.head()"
      ],
      "execution_count": 0,
      "outputs": []
    },
    {
      "cell_type": "markdown",
      "metadata": {
        "id": "bW5qK0JDjEzO",
        "colab_type": "text"
      },
      "source": [
        "# Creating Features and Label"
      ]
    },
    {
      "cell_type": "code",
      "metadata": {
        "id": "bhwRtnQXdLBX",
        "colab_type": "code",
        "colab": {}
      },
      "source": [
        "# Create Features and Labels \n",
        "X= x.drop('Inspection_Results',axis=1)\n",
        "y=x['Inspection_Results']\n",
        "X.head()\n",
        "y.head()"
      ],
      "execution_count": 0,
      "outputs": []
    },
    {
      "cell_type": "code",
      "metadata": {
        "id": "YpUxtSTR5K8a",
        "colab_type": "code",
        "colab": {}
      },
      "source": [
        "X.head()"
      ],
      "execution_count": 0,
      "outputs": []
    },
    {
      "cell_type": "markdown",
      "metadata": {
        "id": "BJ9l6HK9JHJI",
        "colab_type": "text"
      },
      "source": [
        "# Creating train and test data for model building & evaluation.\n"
      ]
    },
    {
      "cell_type": "code",
      "metadata": {
        "id": "AQ61oT4edeEr",
        "colab_type": "code",
        "colab": {}
      },
      "source": [
        "# Create train and test data 85% and 15% split\n",
        "train_x, test_x, train_y, test_y = train_test_split(X, y, test_size=0.15, random_state=1)\n",
        "train_x.shape\n",
        "test_x.shape\n",
        "train_y.shape\n",
        "test_y.shape\n"
      ],
      "execution_count": 0,
      "outputs": []
    },
    {
      "cell_type": "markdown",
      "metadata": {
        "id": "caKJ9LaGjyJp",
        "colab_type": "text"
      },
      "source": [
        "# Building Deep learning model "
      ]
    },
    {
      "cell_type": "markdown",
      "metadata": {
        "id": "ygmrQ9Dys4hl",
        "colab_type": "text"
      },
      "source": [
        "\n",
        "\n",
        "*   The model type that we will be using is Sequential. Sequential is the easiest way to build a model in Keras. It allows us to build a model layer by layer. Each layer has weights that correspond to the layer the follows it.\n",
        "*   We use the ‘add()’ function to add layers to our model. We will add 3-4 layers and an output layer.\n",
        "\n",
        "\n",
        "*  Dropout works by probabilistically removing, or “dropping out,” inputs to a layer, which may be input variables in the data sample or activations from a previous layer. It has the effect of simulating a large number of networks with very different network structure and, in turn, making nodes in the network generally more robust to the inputs.\n",
        "\n",
        "\n",
        "\n",
        "\n"
      ]
    },
    {
      "cell_type": "code",
      "metadata": {
        "id": "aWQY5Gu0fDNg",
        "colab_type": "code",
        "colab": {}
      },
      "source": [
        "# Build Deep Learning Model\n",
        "model = Sequential()\n",
        "model.add(Dense(512, input_dim =4))\n",
        "model.add(Activation('relu'))\n",
        "\n",
        "model.add(Dense(256))\n",
        "model.add(Activation('relu'))\n",
        "\n",
        "\n",
        "model.add(Dense(128))\n",
        "model.add(Activation('tanh'))\n",
        "model.add(Dropout(0.2))\n",
        "\n",
        "model.add(Dense(100))\n",
        "model.add(Activation('tanh'))\n",
        "\n",
        "model.add(Dense(10))\n",
        "model.add(Activation('softmax'))\n",
        "model.compile(optimizer='Adagrad', loss='sparse_categorical_crossentropy', metrics=['accuracy'])\n",
        " \n",
        "\n"
      ],
      "execution_count": 0,
      "outputs": []
    },
    {
      "cell_type": "markdown",
      "metadata": {
        "id": "BcfZtIR2t6Je",
        "colab_type": "text"
      },
      "source": [
        " In training process, we would like to minimise the loss function (difference between the neural network predictions and actual label values) and maximise the accuracy of the image prediction.\n",
        " \n",
        "\n",
        "*   Dense is a standard layer type that works for most cases. In a dense layer, all nodes in the previous layer connect to the nodes in the current layer.\n",
        "\n",
        "* Activation is the activation function for the layer. An activation function allows models to take into account nonlinear relationship.The activation function are using  rectified linear unit (ReLU)in first two layer,then tanh in next two layers and  softmax in the final layer ,as it is giving better accuracy.\n",
        " \n",
        "\n",
        "*   In deep learning, we often use a technique called Cross entropy to define the loss.\n",
        "\n",
        "*   Using sparse categorical cross entropy(used for integer target for multiclass problems) with 10 classes gives us a final output between 0-9, which is exactly what we need in mnist dataset.\n",
        "\n",
        "\n",
        "*    Next, we need to compile our model. Compiling the model takes two parameters: optimizer and loss.\n",
        "The optimizer controls the learning rate. We will be using ‘adagard’ as our optmizer. Adam is generally a good optimizer to use for many cases. The adam optimizer adjusts the learning rate throughout training.But in my adagard optimiver that is performing better.\n",
        "\n",
        "The learning rate determines how fast the optimal weights for the model are calculated. A smaller learning rate may lead to more accurate weights (up to a certain point), but the time it takes to compute the weights will be longer.\n",
        "\n",
        "\n",
        "\n",
        "\n",
        "\n",
        "\n",
        "\n",
        "\n",
        "\n",
        "\n"
      ]
    },
    {
      "cell_type": "markdown",
      "metadata": {
        "id": "yDvOyYyuv8Hb",
        "colab_type": "text"
      },
      "source": [
        "## Here I am defining 5 layers\n",
        "1st layer is input layer with 512 neurons and activation function is Relu.\n",
        "\n",
        "2nd layer is hidden layer with 256 neurons and activation function is Relu.\n",
        "\n",
        "3rd layer is hidden layer with 128 neurons and activation function is tanh.\n",
        "\n",
        "4th layer is hidden layer with 100 neurons and activation function is tanh.\n",
        "\n",
        "5th & final layer is output layer with 10 neurons and activation function is softmax.\n"
      ]
    },
    {
      "cell_type": "markdown",
      "metadata": {
        "id": "iql5Fqrrd1ky",
        "colab_type": "text"
      },
      "source": [
        "# Fitting my model on training data"
      ]
    },
    {
      "cell_type": "code",
      "metadata": {
        "id": "XeIaDVHAgKc7",
        "colab_type": "code",
        "colab": {}
      },
      "source": [
        "# Fit the model\n",
        "model.fit(train_x,train_y, epochs=10, batch_size=32)"
      ],
      "execution_count": 0,
      "outputs": []
    },
    {
      "cell_type": "markdown",
      "metadata": {
        "id": "wxlHMG0cbFn7",
        "colab_type": "text"
      },
      "source": [
        "*   One Epoch is when an ENTIRE dataset is passed forward and backward through the neural network only ONCE.As the number of epochs increases, more number of times the weight are changed in the neural network and the curve goes from underfitting to optimal to overfitting curve. Here I am asking my model to consider 10 epochs.so my completer dataset dataset is passed forward and backward through the neural network 10 times.\n",
        "\n",
        "*   Since one epoch is too big to feed to the computer at once we divide it in several smaller batches.Here we are taking the batch size as 32.Smaller the batch size better the accuracy but it takes long time to run.\n",
        "\n",
        "\n",
        "\n",
        "\n",
        "\n"
      ]
    },
    {
      "cell_type": "markdown",
      "metadata": {
        "id": "k8SJNSjLkFY_",
        "colab_type": "text"
      },
      "source": [
        "# Evaluating my model"
      ]
    },
    {
      "cell_type": "code",
      "metadata": {
        "id": "gJc0mT5cgqYD",
        "colab_type": "code",
        "colab": {}
      },
      "source": [
        "# evaluate the model\n",
        "scores = model.evaluate(test_x, test_y)\n",
        "print(\"test model accuracy is\\n%s: %.2f%%\" % (model.metrics_names[1], scores[1]*100))"
      ],
      "execution_count": 0,
      "outputs": []
    },
    {
      "cell_type": "markdown",
      "metadata": {
        "id": "em-cdC03kXbz",
        "colab_type": "text"
      },
      "source": [
        "I am getting almost 100% accuracy on training data and 96.53% accuracy on test data.Hence we can say it's a preety good model\n",
        "\n",
        "---\n",
        "\n",
        "\n",
        "\n",
        "---\n",
        "\n"
      ]
    },
    {
      "cell_type": "code",
      "metadata": {
        "id": "bz7DKB-Bj5C8",
        "colab_type": "code",
        "colab": {}
      },
      "source": [
        "from sklearn import metrics\n",
        "classes = model.predict_classes(test_x, batch_size=32, verbose=0)\n",
        "print (classes.size)\n",
        "print (metrics.accuracy_score(test_y, classes))\n",
        "print ('Precision/Recall Metrics')\n",
        "print (metrics.classification_report(test_y,classes))"
      ],
      "execution_count": 0,
      "outputs": []
    },
    {
      "cell_type": "markdown",
      "metadata": {
        "id": "_s_EBYRxOkhf",
        "colab_type": "text"
      },
      "source": [
        "## Precisio,recall,F1-score all are almost equal to 1,so we can conclude our model is a good classifier for multi class problem."
      ]
    },
    {
      "cell_type": "code",
      "metadata": {
        "id": "MUT2YiRWkidL",
        "colab_type": "code",
        "colab": {}
      },
      "source": [
        "sample_row=1\n",
        "sample_row=df.iloc[sample_row,:-1]\n",
        "transfered_row=sample_row.values.reshape(5)"
      ],
      "execution_count": 0,
      "outputs": []
    },
    {
      "cell_type": "code",
      "metadata": {
        "id": "Wp4oJT5blBL2",
        "colab_type": "code",
        "colab": {}
      },
      "source": [
        "transfered_row"
      ],
      "execution_count": 0,
      "outputs": []
    },
    {
      "cell_type": "code",
      "metadata": {
        "id": "q3nNDEvGa50p",
        "colab_type": "code",
        "colab": {}
      },
      "source": [
        "from imblearn.under_sampling import RandomUnderSampler\n",
        "\n",
        "rus = RandomUnderSampler(return_indices=True)\n",
        "x_rus, y_rus, id_rus = rus.fit_sample(x,y)"
      ],
      "execution_count": 0,
      "outputs": []
    }
  ]
}