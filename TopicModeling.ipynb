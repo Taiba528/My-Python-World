{
  "nbformat": 4,
  "nbformat_minor": 0,
  "metadata": {
    "kernelspec": {
      "display_name": "Python 3",
      "language": "python",
      "name": "python3"
    },
    "language_info": {
      "codemirror_mode": {
        "name": "ipython",
        "version": 3
      },
      "file_extension": ".py",
      "mimetype": "text/x-python",
      "name": "python",
      "nbconvert_exporter": "python",
      "pygments_lexer": "ipython3",
      "version": "3.7.1"
    },
    "colab": {
      "name": "TopicModeling.ipynb",
      "provenance": [],
      "include_colab_link": true
    }
  },
  "cells": [
    {
      "cell_type": "markdown",
      "metadata": {
        "id": "view-in-github",
        "colab_type": "text"
      },
      "source": [
        "<a href=\"https://colab.research.google.com/github/Taiba528/My-Python-World/blob/master/TopicModeling.ipynb\" target=\"_parent\"><img src=\"https://colab.research.google.com/assets/colab-badge.svg\" alt=\"Open In Colab\"/></a>"
      ]
    },
    {
      "cell_type": "code",
      "metadata": {
        "id": "5smuJd5Dz737",
        "colab_type": "code",
        "colab": {}
      },
      "source": [
        "#Import generic libraries\n",
        "import sklearn\n",
        "from sklearn.feature_extraction.text import TfidfVectorizer\n",
        "from sklearn.feature_extraction.text import CountVectorizer\n",
        "from sklearn.preprocessing import Normalizer\n",
        "from sklearn import metrics\n",
        "import pandas as pd\n",
        "import numpy\n",
        "import warnings\n",
        "# Suppress warnings from pandas library\n",
        "warnings.filterwarnings(\"ignore\", category=DeprecationWarning,module=\"pandas\", lineno=570)"
      ],
      "execution_count": 0,
      "outputs": []
    },
    {
      "cell_type": "code",
      "metadata": {
        "id": "s0LR3qcWz74A",
        "colab_type": "code",
        "colab": {}
      },
      "source": [
        "#Topic modeling with clustering\n",
        "from sklearn.cluster import KMeans, MiniBatchKMeans"
      ],
      "execution_count": 0,
      "outputs": []
    },
    {
      "cell_type": "code",
      "metadata": {
        "id": "jpfPQNzXz74C",
        "colab_type": "code",
        "colab": {
          "base_uri": "https://localhost:8080/",
          "height": 260
        },
        "outputId": "aa4c3154-3d44-4b74-d140-32d30486d834"
      },
      "source": [
        "#Topic modeling with SVD\n",
        "from sklearn.decomposition import TruncatedSVD\n",
        "example = [\"Machine learning is super fun\",\n",
        "\"Python is super, super cool\",\n",
        "\"Statistics is cool, too\",\n",
        "\"Data science is fun\",\n",
        "\"Python is great for machine learning\",\n",
        "\"I like football\",\n",
        "\"Football is great to watch\"]\n",
        "vectorizer = CountVectorizer(min_df = 1, stop_words = 'english')\n",
        "dtm = vectorizer.fit_transform(example)\n",
        "pd.DataFrame(dtm.toarray(),index=example,columns=vectorizer.get_feature_names()).head(10)"
      ],
      "execution_count": 3,
      "outputs": [
        {
          "output_type": "execute_result",
          "data": {
            "text/html": [
              "<div>\n",
              "<style scoped>\n",
              "    .dataframe tbody tr th:only-of-type {\n",
              "        vertical-align: middle;\n",
              "    }\n",
              "\n",
              "    .dataframe tbody tr th {\n",
              "        vertical-align: top;\n",
              "    }\n",
              "\n",
              "    .dataframe thead th {\n",
              "        text-align: right;\n",
              "    }\n",
              "</style>\n",
              "<table border=\"1\" class=\"dataframe\">\n",
              "  <thead>\n",
              "    <tr style=\"text-align: right;\">\n",
              "      <th></th>\n",
              "      <th>cool</th>\n",
              "      <th>data</th>\n",
              "      <th>football</th>\n",
              "      <th>fun</th>\n",
              "      <th>great</th>\n",
              "      <th>learning</th>\n",
              "      <th>like</th>\n",
              "      <th>machine</th>\n",
              "      <th>python</th>\n",
              "      <th>science</th>\n",
              "      <th>statistics</th>\n",
              "      <th>super</th>\n",
              "      <th>watch</th>\n",
              "    </tr>\n",
              "  </thead>\n",
              "  <tbody>\n",
              "    <tr>\n",
              "      <th>Machine learning is super fun</th>\n",
              "      <td>0</td>\n",
              "      <td>0</td>\n",
              "      <td>0</td>\n",
              "      <td>1</td>\n",
              "      <td>0</td>\n",
              "      <td>1</td>\n",
              "      <td>0</td>\n",
              "      <td>1</td>\n",
              "      <td>0</td>\n",
              "      <td>0</td>\n",
              "      <td>0</td>\n",
              "      <td>1</td>\n",
              "      <td>0</td>\n",
              "    </tr>\n",
              "    <tr>\n",
              "      <th>Python is super, super cool</th>\n",
              "      <td>1</td>\n",
              "      <td>0</td>\n",
              "      <td>0</td>\n",
              "      <td>0</td>\n",
              "      <td>0</td>\n",
              "      <td>0</td>\n",
              "      <td>0</td>\n",
              "      <td>0</td>\n",
              "      <td>1</td>\n",
              "      <td>0</td>\n",
              "      <td>0</td>\n",
              "      <td>2</td>\n",
              "      <td>0</td>\n",
              "    </tr>\n",
              "    <tr>\n",
              "      <th>Statistics is cool, too</th>\n",
              "      <td>1</td>\n",
              "      <td>0</td>\n",
              "      <td>0</td>\n",
              "      <td>0</td>\n",
              "      <td>0</td>\n",
              "      <td>0</td>\n",
              "      <td>0</td>\n",
              "      <td>0</td>\n",
              "      <td>0</td>\n",
              "      <td>0</td>\n",
              "      <td>1</td>\n",
              "      <td>0</td>\n",
              "      <td>0</td>\n",
              "    </tr>\n",
              "    <tr>\n",
              "      <th>Data science is fun</th>\n",
              "      <td>0</td>\n",
              "      <td>1</td>\n",
              "      <td>0</td>\n",
              "      <td>1</td>\n",
              "      <td>0</td>\n",
              "      <td>0</td>\n",
              "      <td>0</td>\n",
              "      <td>0</td>\n",
              "      <td>0</td>\n",
              "      <td>1</td>\n",
              "      <td>0</td>\n",
              "      <td>0</td>\n",
              "      <td>0</td>\n",
              "    </tr>\n",
              "    <tr>\n",
              "      <th>Python is great for machine learning</th>\n",
              "      <td>0</td>\n",
              "      <td>0</td>\n",
              "      <td>0</td>\n",
              "      <td>0</td>\n",
              "      <td>1</td>\n",
              "      <td>1</td>\n",
              "      <td>0</td>\n",
              "      <td>1</td>\n",
              "      <td>1</td>\n",
              "      <td>0</td>\n",
              "      <td>0</td>\n",
              "      <td>0</td>\n",
              "      <td>0</td>\n",
              "    </tr>\n",
              "    <tr>\n",
              "      <th>I like football</th>\n",
              "      <td>0</td>\n",
              "      <td>0</td>\n",
              "      <td>1</td>\n",
              "      <td>0</td>\n",
              "      <td>0</td>\n",
              "      <td>0</td>\n",
              "      <td>1</td>\n",
              "      <td>0</td>\n",
              "      <td>0</td>\n",
              "      <td>0</td>\n",
              "      <td>0</td>\n",
              "      <td>0</td>\n",
              "      <td>0</td>\n",
              "    </tr>\n",
              "    <tr>\n",
              "      <th>Football is great to watch</th>\n",
              "      <td>0</td>\n",
              "      <td>0</td>\n",
              "      <td>1</td>\n",
              "      <td>0</td>\n",
              "      <td>1</td>\n",
              "      <td>0</td>\n",
              "      <td>0</td>\n",
              "      <td>0</td>\n",
              "      <td>0</td>\n",
              "      <td>0</td>\n",
              "      <td>0</td>\n",
              "      <td>0</td>\n",
              "      <td>1</td>\n",
              "    </tr>\n",
              "  </tbody>\n",
              "</table>\n",
              "</div>"
            ],
            "text/plain": [
              "                                      cool  data  ...  super  watch\n",
              "Machine learning is super fun            0     0  ...      1      0\n",
              "Python is super, super cool              1     0  ...      2      0\n",
              "Statistics is cool, too                  1     0  ...      0      0\n",
              "Data science is fun                      0     1  ...      0      0\n",
              "Python is great for machine learning     0     0  ...      0      0\n",
              "I like football                          0     0  ...      0      0\n",
              "Football is great to watch               0     0  ...      0      1\n",
              "\n",
              "[7 rows x 13 columns]"
            ]
          },
          "metadata": {
            "tags": []
          },
          "execution_count": 3
        }
      ]
    },
    {
      "cell_type": "code",
      "metadata": {
        "id": "WyirdpWpz74G",
        "colab_type": "code",
        "colab": {
          "base_uri": "https://localhost:8080/",
          "height": 251
        },
        "outputId": "4c95474a-d1cc-418d-d2f3-63e020764444"
      },
      "source": [
        "# Get words that correspond to each column\n",
        "vectorizer.get_feature_names()"
      ],
      "execution_count": 4,
      "outputs": [
        {
          "output_type": "execute_result",
          "data": {
            "text/plain": [
              "['cool',\n",
              " 'data',\n",
              " 'football',\n",
              " 'fun',\n",
              " 'great',\n",
              " 'learning',\n",
              " 'like',\n",
              " 'machine',\n",
              " 'python',\n",
              " 'science',\n",
              " 'statistics',\n",
              " 'super',\n",
              " 'watch']"
            ]
          },
          "metadata": {
            "tags": []
          },
          "execution_count": 4
        }
      ]
    },
    {
      "cell_type": "code",
      "metadata": {
        "id": "5UP0faeHz74I",
        "colab_type": "code",
        "colab": {
          "base_uri": "https://localhost:8080/",
          "height": 109
        },
        "outputId": "1c92878d-579b-46d2-cce7-8294b7c6332f"
      },
      "source": [
        "# Fit LSA. Use algorithm = “randomized” for large datasets\n",
        "#lsa = TruncatedSVD(2, algorithm = 'arpack')\n",
        "lsa = TruncatedSVD(2, algorithm = 'randomized')\n",
        "dtm_lsa = lsa.fit_transform(dtm)\n",
        "dtm_lsa = Normalizer(copy=False).fit_transform(dtm_lsa)\n",
        "pd.DataFrame(lsa.components_,index = [\"component_1\",\"component_2\"],columns = vectorizer.get_feature_names())"
      ],
      "execution_count": 5,
      "outputs": [
        {
          "output_type": "execute_result",
          "data": {
            "text/html": [
              "<div>\n",
              "<style scoped>\n",
              "    .dataframe tbody tr th:only-of-type {\n",
              "        vertical-align: middle;\n",
              "    }\n",
              "\n",
              "    .dataframe tbody tr th {\n",
              "        vertical-align: top;\n",
              "    }\n",
              "\n",
              "    .dataframe thead th {\n",
              "        text-align: right;\n",
              "    }\n",
              "</style>\n",
              "<table border=\"1\" class=\"dataframe\">\n",
              "  <thead>\n",
              "    <tr style=\"text-align: right;\">\n",
              "      <th></th>\n",
              "      <th>cool</th>\n",
              "      <th>data</th>\n",
              "      <th>football</th>\n",
              "      <th>fun</th>\n",
              "      <th>great</th>\n",
              "      <th>learning</th>\n",
              "      <th>like</th>\n",
              "      <th>machine</th>\n",
              "      <th>python</th>\n",
              "      <th>science</th>\n",
              "      <th>statistics</th>\n",
              "      <th>super</th>\n",
              "      <th>watch</th>\n",
              "    </tr>\n",
              "  </thead>\n",
              "  <tbody>\n",
              "    <tr>\n",
              "      <th>component_1</th>\n",
              "      <td>0.280004</td>\n",
              "      <td>0.035353</td>\n",
              "      <td>0.033417</td>\n",
              "      <td>0.223993</td>\n",
              "      <td>0.178307</td>\n",
              "      <td>0.338085</td>\n",
              "      <td>0.004555</td>\n",
              "      <td>0.338085</td>\n",
              "      <td>0.391281</td>\n",
              "      <td>0.035353</td>\n",
              "      <td>0.038169</td>\n",
              "      <td>0.672310</td>\n",
              "      <td>0.028861</td>\n",
              "    </tr>\n",
              "    <tr>\n",
              "      <th>component_2</th>\n",
              "      <td>0.365270</td>\n",
              "      <td>-0.064548</td>\n",
              "      <td>-0.298349</td>\n",
              "      <td>-0.168056</td>\n",
              "      <td>-0.478428</td>\n",
              "      <td>-0.366379</td>\n",
              "      <td>-0.082792</td>\n",
              "      <td>-0.366379</td>\n",
              "      <td>0.001036</td>\n",
              "      <td>-0.064548</td>\n",
              "      <td>0.101363</td>\n",
              "      <td>0.424306</td>\n",
              "      <td>-0.215557</td>\n",
              "    </tr>\n",
              "  </tbody>\n",
              "</table>\n",
              "</div>"
            ],
            "text/plain": [
              "                 cool      data  football  ...  statistics     super     watch\n",
              "component_1  0.280004  0.035353  0.033417  ...    0.038169  0.672310  0.028861\n",
              "component_2  0.365270 -0.064548 -0.298349  ...    0.101363  0.424306 -0.215557\n",
              "\n",
              "[2 rows x 13 columns]"
            ]
          },
          "metadata": {
            "tags": []
          },
          "execution_count": 5
        }
      ]
    },
    {
      "cell_type": "code",
      "metadata": {
        "id": "iteMyUEUz74K",
        "colab_type": "code",
        "colab": {
          "base_uri": "https://localhost:8080/",
          "height": 260
        },
        "outputId": "ce9d8895-d316-4e9a-e81c-61058510ff77"
      },
      "source": [
        "pd.DataFrame(dtm_lsa, index = example, columns = [\"component_1\",\"component_2\"])"
      ],
      "execution_count": 6,
      "outputs": [
        {
          "output_type": "execute_result",
          "data": {
            "text/html": [
              "<div>\n",
              "<style scoped>\n",
              "    .dataframe tbody tr th:only-of-type {\n",
              "        vertical-align: middle;\n",
              "    }\n",
              "\n",
              "    .dataframe tbody tr th {\n",
              "        vertical-align: top;\n",
              "    }\n",
              "\n",
              "    .dataframe thead th {\n",
              "        text-align: right;\n",
              "    }\n",
              "</style>\n",
              "<table border=\"1\" class=\"dataframe\">\n",
              "  <thead>\n",
              "    <tr style=\"text-align: right;\">\n",
              "      <th></th>\n",
              "      <th>component_1</th>\n",
              "      <th>component_2</th>\n",
              "    </tr>\n",
              "  </thead>\n",
              "  <tbody>\n",
              "    <tr>\n",
              "      <th>Machine learning is super fun</th>\n",
              "      <td>0.957024</td>\n",
              "      <td>-0.290007</td>\n",
              "    </tr>\n",
              "    <tr>\n",
              "      <th>Python is super, super cool</th>\n",
              "      <td>0.856484</td>\n",
              "      <td>0.516174</td>\n",
              "    </tr>\n",
              "    <tr>\n",
              "      <th>Statistics is cool, too</th>\n",
              "      <td>0.563355</td>\n",
              "      <td>0.826215</td>\n",
              "    </tr>\n",
              "    <tr>\n",
              "      <th>Data science is fun</th>\n",
              "      <td>0.704171</td>\n",
              "      <td>-0.710030</td>\n",
              "    </tr>\n",
              "    <tr>\n",
              "      <th>Python is great for machine learning</th>\n",
              "      <td>0.717284</td>\n",
              "      <td>-0.696781</td>\n",
              "    </tr>\n",
              "    <tr>\n",
              "      <th>I like football</th>\n",
              "      <td>0.099136</td>\n",
              "      <td>-0.995074</td>\n",
              "    </tr>\n",
              "    <tr>\n",
              "      <th>Football is great to watch</th>\n",
              "      <td>0.235618</td>\n",
              "      <td>-0.971846</td>\n",
              "    </tr>\n",
              "  </tbody>\n",
              "</table>\n",
              "</div>"
            ],
            "text/plain": [
              "                                      component_1  component_2\n",
              "Machine learning is super fun            0.957024    -0.290007\n",
              "Python is super, super cool              0.856484     0.516174\n",
              "Statistics is cool, too                  0.563355     0.826215\n",
              "Data science is fun                      0.704171    -0.710030\n",
              "Python is great for machine learning     0.717284    -0.696781\n",
              "I like football                          0.099136    -0.995074\n",
              "Football is great to watch               0.235618    -0.971846"
            ]
          },
          "metadata": {
            "tags": []
          },
          "execution_count": 6
        }
      ]
    },
    {
      "cell_type": "code",
      "metadata": {
        "id": "AFg8G4NCz74M",
        "colab_type": "code",
        "colab": {}
      },
      "source": [
        "xs = [w[0] for w in dtm_lsa]\n",
        "ys = [w[1] for w in dtm_lsa]"
      ],
      "execution_count": 0,
      "outputs": []
    },
    {
      "cell_type": "code",
      "metadata": {
        "id": "O-Seyc9xz74P",
        "colab_type": "code",
        "colab": {
          "base_uri": "https://localhost:8080/",
          "height": 331
        },
        "outputId": "9e2f86ac-dd6e-48c4-896e-aaccf6e5b148"
      },
      "source": [
        "#Visualize the points on the orthogonal plot\n",
        "%pylab inline\n",
        "import matplotlib.pyplot as plt\n",
        "figure()\n",
        "plt.scatter(xs,ys)\n",
        "xlabel('First principal component')\n",
        "ylabel('Second principal component')\n",
        "title('Plot of points against LSA principal components')"
      ],
      "execution_count": 8,
      "outputs": [
        {
          "output_type": "stream",
          "text": [
            "Populating the interactive namespace from numpy and matplotlib\n"
          ],
          "name": "stdout"
        },
        {
          "output_type": "execute_result",
          "data": {
            "text/plain": [
              "Text(0.5, 1.0, 'Plot of points against LSA principal components')"
            ]
          },
          "metadata": {
            "tags": []
          },
          "execution_count": 8
        },
        {
          "output_type": "display_data",
          "data": {
            "image/png": "[encoded data removed]",
            "text/plain": [
              "<Figure size 432x288 with 1 Axes>"
            ]
          },
          "metadata": {
            "tags": [],
            "needs_background": "light"
          }
        }
      ]
    },
    {
      "cell_type": "code",
      "metadata": {
        "id": "_fllH_H8z74S",
        "colab_type": "code",
        "colab": {
          "base_uri": "https://localhost:8080/",
          "height": 329
        },
        "outputId": "f64826bb-520c-4337-c953-045690fd4e81"
      },
      "source": [
        "# Compute document similarity using LSA components\n",
        "similarity = np.asarray(numpy.asmatrix(dtm_lsa) * numpy.asmatrix(dtm_lsa).T)\n",
        "df  = pd.DataFrame(similarity,index=example, columns=example).head(10)\n",
        "df"
      ],
      "execution_count": 9,
      "outputs": [
        {
          "output_type": "execute_result",
          "data": {
            "text/html": [
              "<div>\n",
              "<style scoped>\n",
              "    .dataframe tbody tr th:only-of-type {\n",
              "        vertical-align: middle;\n",
              "    }\n",
              "\n",
              "    .dataframe tbody tr th {\n",
              "        vertical-align: top;\n",
              "    }\n",
              "\n",
              "    .dataframe thead th {\n",
              "        text-align: right;\n",
              "    }\n",
              "</style>\n",
              "<table border=\"1\" class=\"dataframe\">\n",
              "  <thead>\n",
              "    <tr style=\"text-align: right;\">\n",
              "      <th></th>\n",
              "      <th>Machine learning is super fun</th>\n",
              "      <th>Python is super, super cool</th>\n",
              "      <th>Statistics is cool, too</th>\n",
              "      <th>Data science is fun</th>\n",
              "      <th>Python is great for machine learning</th>\n",
              "      <th>I like football</th>\n",
              "      <th>Football is great to watch</th>\n",
              "    </tr>\n",
              "  </thead>\n",
              "  <tbody>\n",
              "    <tr>\n",
              "      <th>Machine learning is super fun</th>\n",
              "      <td>1.000000</td>\n",
              "      <td>0.669981</td>\n",
              "      <td>0.299536</td>\n",
              "      <td>0.879823</td>\n",
              "      <td>0.888530</td>\n",
              "      <td>0.383455</td>\n",
              "      <td>0.507335</td>\n",
              "    </tr>\n",
              "    <tr>\n",
              "      <th>Python is super, super cool</th>\n",
              "      <td>0.669981</td>\n",
              "      <td>1.000000</td>\n",
              "      <td>0.908975</td>\n",
              "      <td>0.236612</td>\n",
              "      <td>0.254682</td>\n",
              "      <td>-0.428723</td>\n",
              "      <td>-0.299838</td>\n",
              "    </tr>\n",
              "    <tr>\n",
              "      <th>Statistics is cool, too</th>\n",
              "      <td>0.299536</td>\n",
              "      <td>0.908975</td>\n",
              "      <td>1.000000</td>\n",
              "      <td>-0.189940</td>\n",
              "      <td>-0.171606</td>\n",
              "      <td>-0.766296</td>\n",
              "      <td>-0.670217</td>\n",
              "    </tr>\n",
              "    <tr>\n",
              "      <th>Data science is fun</th>\n",
              "      <td>0.879823</td>\n",
              "      <td>0.236612</td>\n",
              "      <td>-0.189940</td>\n",
              "      <td>1.000000</td>\n",
              "      <td>0.999826</td>\n",
              "      <td>0.776342</td>\n",
              "      <td>0.855956</td>\n",
              "    </tr>\n",
              "    <tr>\n",
              "      <th>Python is great for machine learning</th>\n",
              "      <td>0.888530</td>\n",
              "      <td>0.254682</td>\n",
              "      <td>-0.171606</td>\n",
              "      <td>0.999826</td>\n",
              "      <td>1.000000</td>\n",
              "      <td>0.764458</td>\n",
              "      <td>0.846169</td>\n",
              "    </tr>\n",
              "    <tr>\n",
              "      <th>I like football</th>\n",
              "      <td>0.383455</td>\n",
              "      <td>-0.428723</td>\n",
              "      <td>-0.766296</td>\n",
              "      <td>0.776342</td>\n",
              "      <td>0.764458</td>\n",
              "      <td>1.000000</td>\n",
              "      <td>0.990417</td>\n",
              "    </tr>\n",
              "    <tr>\n",
              "      <th>Football is great to watch</th>\n",
              "      <td>0.507335</td>\n",
              "      <td>-0.299838</td>\n",
              "      <td>-0.670217</td>\n",
              "      <td>0.855956</td>\n",
              "      <td>0.846169</td>\n",
              "      <td>0.990417</td>\n",
              "      <td>1.000000</td>\n",
              "    </tr>\n",
              "  </tbody>\n",
              "</table>\n",
              "</div>"
            ],
            "text/plain": [
              "                                      Machine learning is super fun  ...  Football is great to watch\n",
              "Machine learning is super fun                              1.000000  ...                    0.507335\n",
              "Python is super, super cool                                0.669981  ...                   -0.299838\n",
              "Statistics is cool, too                                    0.299536  ...                   -0.670217\n",
              "Data science is fun                                        0.879823  ...                    0.855956\n",
              "Python is great for machine learning                       0.888530  ...                    0.846169\n",
              "I like football                                            0.383455  ...                    0.990417\n",
              "Football is great to watch                                 0.507335  ...                    1.000000\n",
              "\n",
              "[7 rows x 7 columns]"
            ]
          },
          "metadata": {
            "tags": []
          },
          "execution_count": 9
        }
      ]
    },
    {
      "cell_type": "code",
      "metadata": {
        "id": "9j7mA041z74U",
        "colab_type": "code",
        "colab": {
          "base_uri": "https://localhost:8080/",
          "height": 71
        },
        "outputId": "e04fa1f3-490d-44ca-d94e-bd66a3677be0"
      },
      "source": [
        "# Clustering the training 30 sentences with K-means technique\n",
        "modelkmeans = KMeans(n_clusters=2, init='k-means++', max_iter=200, n_init=100)\n",
        "modelkmeans.fit(dtm)"
      ],
      "execution_count": 10,
      "outputs": [
        {
          "output_type": "execute_result",
          "data": {
            "text/plain": [
              "KMeans(algorithm='auto', copy_x=True, init='k-means++', max_iter=200,\n",
              "       n_clusters=2, n_init=100, n_jobs=None, precompute_distances='auto',\n",
              "       random_state=None, tol=0.0001, verbose=0)"
            ]
          },
          "metadata": {
            "tags": []
          },
          "execution_count": 10
        }
      ]
    },
    {
      "cell_type": "code",
      "metadata": {
        "id": "CcrDFRYhz74W",
        "colab_type": "code",
        "colab": {
          "base_uri": "https://localhost:8080/",
          "height": 143
        },
        "outputId": "ed05f5f4-4287-4c0f-ccfd-b24678322448"
      },
      "source": [
        "for doc in dtm:\n",
        "    print(modelkmeans.predict(doc))"
      ],
      "execution_count": 11,
      "outputs": [
        {
          "output_type": "stream",
          "text": [
            "[0]\n",
            "[0]\n",
            "[1]\n",
            "[1]\n",
            "[0]\n",
            "[1]\n",
            "[1]\n"
          ],
          "name": "stdout"
        }
      ]
    },
    {
      "cell_type": "code",
      "metadata": {
        "id": "FtESnP9Xz74Y",
        "colab_type": "code",
        "colab": {}
      },
      "source": [
        ""
      ],
      "execution_count": 0,
      "outputs": []
    }
  ]
}